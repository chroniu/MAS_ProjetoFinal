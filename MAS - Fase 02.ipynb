{
 "cells": [
  {
   "cell_type": "code",
   "execution_count": 1,
   "metadata": {
    "collapsed": true
   },
   "outputs": [],
   "source": [
    "%load_ext autoreload\n",
    "%autoreload 2"
   ]
  },
  {
   "cell_type": "code",
   "execution_count": 2,
   "metadata": {
    "collapsed": true
   },
   "outputs": [],
   "source": [
    "import pandas as pd\n",
    "import dataset\n",
    "import configs\n",
    "import database"
   ]
  },
  {
   "cell_type": "code",
   "execution_count": null,
   "metadata": {
    "collapsed": false
   },
   "outputs": [],
   "source": [
    "def gen_statistics(file_name, num_agrupate):\n",
    "    df = pd.read_csv(configs.csv_dir + 'mrburns_stats-20140801.csv')\n",
    "    df['time'] = pd.to_datetime(df['time'])\n",
    "    df.rename(index=str, columns={\"livre\": \"free\"})\n",
    "\n",
    "    fields = set(df.columns)\n",
    "    fields.remove('time')\n",
    "\n",
    "    aggregations = {\n",
    "        'time': {    \n",
    "            'min_date': 'min',\n",
    "            'max_date': 'max'}}\n",
    "\n",
    "\n",
    "    for field in fields:\n",
    "        aggregations[field] = { \n",
    "            'min': 'min',\n",
    "            'avg': 'mean', \n",
    "            'max': 'max',\n",
    "            'p90': lambda x : x.quantile(0.9)\n",
    "        }\n",
    "\n",
    "    df = df.groupby(df.index // num_agrupate).agg(aggregations)\n",
    "    df.columns = [\"_\".join(x) for x in df.columns.ravel()]\n",
    "    return df\n",
    "\n",
    "def import_to_bd(num_agrupate, imported_file):\n",
    "    with open(imported_file, 'r', encoding='utf-8') as infile:\n",
    "        imported_list = infile.readlines()\n",
    "    imported_list = [x.strip() for x in imported_list]\n",
    "    \n",
    "    with open(configs.processed_files, 'r', encoding='utf-8') as infile:\n",
    "        processed_list = infile.readlines()\n",
    "    processed_list = [x.strip() for x in processed_list]\n",
    "\n",
    "    files_set = set(processed_list).difference(set(imported_list))\n",
    "    print(\"{} novos arquivos para importar\".format(len(files_set)))\n",
    "    if(len(files_set)==0):\n",
    "        return\n",
    "    \n",
    "    imported_files = open(imported_file, 'a+', encoding='utf-8')\n",
    "\n",
    "    table = database.db['server_statistics']\n",
    "    for file in files_set:\n",
    "        server_name = file[0:file.find('_stats')]\n",
    "        statistics = gen_statistics(configs.csv_dir+file+\".csv\", num_agrupate)\n",
    "    \n",
    "        statistics = statistics.to_dict(orient='split')\n",
    "\n",
    "        columns = statistics['columns']\n",
    "        values  = statistics['data']\n",
    "        for value in values:\n",
    "                row = dict(zip(columns, value))\n",
    "                row['server'] = server_name\n",
    "                row['agregation'] = num_agrupate\n",
    "                table.insert(row)\n",
    "                imported_files.write(file)\n",
    "        print(\"{} importado para o banco\".format(file))\n",
    "    imported_files.close()"
   ]
  },
  {
   "cell_type": "code",
   "execution_count": null,
   "metadata": {
    "collapsed": false
   },
   "outputs": [
    {
     "name": "stdout",
     "output_type": "stream",
     "text": [
      "fase 02\n",
      "4102 novos arquivos para importar\n"
     ]
    },
    {
     "name": "stderr",
     "output_type": "stream",
     "text": [
      "/home/chronius/.local/lib/python3.5/site-packages/pandas/core/groupby.py:4189: FutureWarning: using a dict with renaming is deprecated and will be removed in a future version\n",
      "  return super(DataFrameGroupBy, self).aggregate(arg, *args, **kwargs)\n"
     ]
    },
    {
     "name": "stdout",
     "output_type": "stream",
     "text": [
      "yogafire_stats-20160124 importado para o banco\n",
      "yogafire_stats-20150619 importado para o banco\n",
      "neo-slayer_stats-20150803 importado para o banco\n",
      "yogafire_stats-20160217 importado para o banco\n",
      "mrburns_stats-20180313 importado para o banco\n",
      "yogafire_stats-20140725 importado para o banco\n",
      "neo-slayer_stats-20161121 importado para o banco\n",
      "yogafire_stats-20161019 importado para o banco\n",
      "neo-slayer_stats-20171226 importado para o banco\n",
      "neo-slayer_stats-20150528 importado para o banco\n",
      "neo-slayer_stats-20160629 importado para o banco\n",
      "neo-slayer_stats-20180429 importado para o banco\n",
      "yogafire_stats-20141207 importado para o banco\n",
      "neo-slayer_stats-20171015 importado para o banco\n",
      "neo-slayer_stats-20140630 importado para o banco\n",
      "neo-slayer_stats-20180128 importado para o banco\n",
      "mrburns_stats-20170515 importado para o banco\n",
      "yogafire_stats-20140519 importado para o banco\n",
      "neo-slayer_stats-20180217 importado para o banco\n",
      "mrburns_stats-20160202 importado para o banco\n",
      "neo-slayer_stats-20160419 importado para o banco\n",
      "mrburns_stats-20150720 importado para o banco\n",
      "yogafire_stats-20180523 importado para o banco\n",
      "neo-slayer_stats-20140608 importado para o banco\n",
      "yogafire_stats-20160630 importado para o banco\n",
      "yogafire_stats-20150323 importado para o banco\n",
      "yogafire_stats-20140729 importado para o banco\n",
      "mrburns_stats-20160914 importado para o banco\n",
      "yogafire_stats-20160107 importado para o banco\n",
      "neo-slayer_stats-20160715 importado para o banco\n",
      "yogafire_stats-20171208 importado para o banco\n",
      "yogafire_stats-20150122 importado para o banco\n",
      "mrburns_stats-20141027 importado para o banco\n",
      "mrburns_stats-20160324 importado para o banco\n",
      "yogafire_stats-20140908 importado para o banco\n",
      "yogafire_stats-20170311 importado para o banco\n",
      "mrburns_stats-20160819 importado para o banco\n",
      "mrburns_stats-20171120 importado para o banco\n",
      "neo-slayer_stats-20140408 importado para o banco\n",
      "neo-slayer_stats-20170907 importado para o banco\n"
     ]
    }
   ],
   "source": [
    "print(\"fase 02\")\n",
    "s = import_to_bd(60, configs.imported_files_60)\n",
    "print(\"fase 02 concluída\")      "
   ]
  },
  {
   "cell_type": "code",
   "execution_count": null,
   "metadata": {
    "collapsed": false
   },
   "outputs": [],
   "source": [
    "\n",
    "    "
   ]
  },
  {
   "cell_type": "code",
   "execution_count": null,
   "metadata": {
    "collapsed": false
   },
   "outputs": [],
   "source": []
  }
 ],
 "metadata": {
  "kernelspec": {
   "display_name": "Python 3",
   "language": "python",
   "name": "python3"
  },
  "language_info": {
   "codemirror_mode": {
    "name": "ipython",
    "version": 3
   },
   "file_extension": ".py",
   "mimetype": "text/x-python",
   "name": "python",
   "nbconvert_exporter": "python",
   "pygments_lexer": "ipython3",
   "version": "3.5.2"
  }
 },
 "nbformat": 4,
 "nbformat_minor": 2
}
